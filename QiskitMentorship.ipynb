{
 "cells": [
  {
   "cell_type": "code",
   "execution_count": 376,
   "metadata": {},
   "outputs": [],
   "source": [
    "import qiskit as qk\n",
    "from qiskit import *\n",
    "import numpy as np\n",
    "import random\n",
    "import matplotlib as plt"
   ]
  },
  {
   "cell_type": "code",
   "execution_count": 377,
   "metadata": {},
   "outputs": [],
   "source": [
    "def get_ground_state(num_qubits):\n",
    "\n",
    "    q0 = [1., 0.] #ground state\n",
    "    # return vector of size 2**num_qubits with all zeroes except first element which is 1\n",
    "    elements = q0\n",
    "    for i in range(0, num_qubits-1):\n",
    "        elements = np.kron(elements, q0)\n",
    "    #elements = np.zeros(2**num_qubits)\n",
    "    #elements[0]=1\n",
    "    return elements"
   ]
  },
  {
   "cell_type": "code",
   "execution_count": 378,
   "metadata": {},
   "outputs": [],
   "source": [
    "def find_operator(total_qubits, gate_choice, target_qubits):\n",
    "    #mandate that target_qubits has an array input!\n",
    "    #Define X (NOT) Gate\n",
    "    X = np.array([\n",
    "    [0, 1],\n",
    "    [1, 0]\n",
    "    ])\n",
    "    \n",
    "    # Define H (Hadamard) gate:\n",
    "\n",
    "    H = np.array([\n",
    "        [1/np.sqrt(2), 1/np.sqrt(2)],\n",
    "        [1/np.sqrt(2), -1/np.sqrt(2)]\n",
    "    ])\n",
    "    \n",
    "    # Define projection operator |0><0|\n",
    "\n",
    "    P0x0 = np.array([\n",
    "    [1, 0],\n",
    "    [0, 0]\n",
    "    ])\n",
    "\n",
    "    # Define projection operator |1><1|\n",
    "\n",
    "    P1x1 = np.array([\n",
    "    [0, 0],\n",
    "    [0, 1]\n",
    "    ])\n",
    "\n",
    "    #2x2 identity\n",
    "    I = np.identity(2)\n",
    "    \n",
    "    choice = np.identity(2)\n",
    "    \n",
    "    if(len(target_qubits)==1):\n",
    "        #makes list of matrices!\n",
    "        targets_li = np.linspace(I, I, total_qubits)\n",
    "        \n",
    "        #chooses where the unitary operator goes in the list of matrices, which will help with the creation\n",
    "        #of the overall matrix operator\n",
    "        if(gate_choice==\"x\" or gate_choice == \"X\"):\n",
    "            targets_li[target_qubits[0]]=X\n",
    "        elif(gate_choice==\"h\" or gate_choice == \"H\"):\n",
    "            targets_li[target_qubits[0]]=H\n",
    "        \n",
    "        #ONCE YOU HAVE THE ARRAY OF IDENTITY MATRICES AND YOU SET THE CHOICE TO BE THE INDEX OF THE TARGET\n",
    "        \n",
    "        O = np.kron(targets_li[0], targets_li[1])\n",
    "        \n",
    "        for i in range(2, len(targets_li)):\n",
    "            O = np.kron(O, targets_li[i])\n",
    "        #print(O)\n",
    "        return O\n",
    "    \n",
    "    elif(len(target_qubits)>1):\n",
    "    #use projection operators to create CNOT!\n",
    "        cx1 = np.linspace(I, I, total_qubits) \n",
    "        cx1[target_qubits[0]]=P0x0\n",
    "        cx2 = np.linspace(I, I, total_qubits) \n",
    "        cx2[target_qubits[0]]=P1x1\n",
    "        cx2[target_qubits[1]] = X\n",
    "         \n",
    "        O1 = np.kron(cx1[0], cx1[1])\n",
    "        O2 = np.kron(cx2[0], cx2[1])\n",
    "        \n",
    "        for i in range(2, total_qubits):\n",
    "            O1 = np.kron(O1, cx1[i])\n",
    "            O2 = np.kron(O2, cx2[i])\n",
    "        O_CNOT = O1+O2\n",
    "        #print(O_CNOT)\n",
    "        return O_CNOT\n",
    "         \n",
    "    \n",
    "    #FOR TESTING PURPOSES\n",
    "#psi = get_ground_state(2)\n",
    "#print(psi)\n",
    "#print(\"\\n\")\n",
    "#psi = np.dot(psi, find_operator(2, \"H\", [0]))\n",
    "#print(\"\\n\")\n",
    "#psi = np.dot(psi, find_operator(2, \"cx\", [0,1]))\n",
    "#print(\"\\n\")\n",
    "#print(psi)"
   ]
  },
  {
   "cell_type": "code",
   "execution_count": 379,
   "metadata": {},
   "outputs": [],
   "source": [
    "def run_program(initial_state, circuit, total_qubits):\n",
    "    \n",
    "    final_state = initial_state\n",
    "    \n",
    "    for i in range(0, len(circuit)):\n",
    "        final_state = np.dot(final_state, find_operator(total_qubits, circuit[i][\"gate\"], circuit[i][\"target\"]))\n",
    "    \n",
    "    return final_state\n",
    "\n"
   ]
  },
  {
   "cell_type": "code",
   "execution_count": 380,
   "metadata": {},
   "outputs": [],
   "source": [
    "def measure_all(state_vector):\n",
    "    # choose element from state_vector using weighted random and return it's index\n",
    "    \n",
    "    #For example, return 00 for decimal index 0, or 11 for decimal index 3\n",
    "    #fill the remaining values with zero\n",
    "    \n",
    "    #make empty string array\n",
    "    bin_index = [\"\" for x in range(len(state_vector))]\n",
    "    probabilities = [abs(state_vector[x])**2 for x in range(len(state_vector))]\n",
    "    #print(probabilities)\n",
    "\n",
    "    \n",
    "    \n",
    "    for i in range(0, len(bin_index)):\n",
    "        #print(format(i, '00' + str(num_qubits) + 'b'))\n",
    "        bin_index[i] = str(format(i, '00' + str(num_qubits) + 'b'))\n",
    "    \n",
    "    #comb_array = np.array([bin_index, state_vector])\n",
    "\n",
    "    choice = random.choices(bin_index, probabilities)[0]\n",
    "    \n",
    "    #print(choice)\n",
    "    return choice"
   ]
  },
  {
   "cell_type": "code",
   "execution_count": 381,
   "metadata": {},
   "outputs": [],
   "source": [
    "def get_counts(state_vector, num_shots):\n",
    "    # simply execute measure_all in a loop num_shots times and\n",
    "    # return object with statistics in following form:\n",
    "    #   {\n",
    "    #      element_index: number_of_ocurrences,\n",
    "    #      element_index: number_of_ocurrences,\n",
    "    #      element_index: number_of_ocurrences,\n",
    "    #      ...\n",
    "    #   }\n",
    "    # (only for elements which occoured - returned from measure_all)\n",
    "    \n",
    "    bin_index = [\"\" for x in range(len(state_vector))]\n",
    "    \n",
    "    for i in range(0, len(bin_index)):\n",
    "        #print(format(i, '00' + str(num_qubits) + 'b'))\n",
    "        bin_index[i] = str(format(i, '00' + str(num_qubits) + 'b'))\n",
    "    \n",
    "    values = {}\n",
    "    \n",
    "    for i in range(0, len(bin_index)):\n",
    "        values[bin_index[i]]=0\n",
    "    \n",
    "    #setting all values to zero in the values dictionary\n",
    "    \n",
    "    for i in range(0, num_shots):\n",
    "        values[measure_all(state_vector)] +=1\n",
    "\n",
    "    for i in range(0, len(bin_index)):\n",
    "        if(values[bin_index[i]]==0):\n",
    "            del(values[bin_index[i]])\n",
    "    \n",
    "    return values"
   ]
  },
  {
   "cell_type": "code",
   "execution_count": 384,
   "metadata": {},
   "outputs": [
    {
     "name": "stdout",
     "output_type": "stream",
     "text": [
      "{'00': 508, '11': 492}\n"
     ]
    },
    {
     "data": {
      "text/plain": [
       "Text(0, 0.5, '# of Readings when Measured')"
      ]
     },
     "execution_count": 384,
     "metadata": {},
     "output_type": "execute_result"
    },
    {
     "data": {
      "image/png": "[encoded data removed]",
      "text/plain": [
       "<Figure size 432x288 with 1 Axes>"
      ]
     },
     "metadata": {
      "needs_background": "light"
     },
     "output_type": "display_data"
    }
   ],
   "source": [
    "# Define program:\n",
    "\n",
    "my_circuit = [\n",
    "{ \"gate\": \"h\", \"target\": [0] }, \n",
    "{ \"gate\": \"cx\", \"target\": [0, 1] }\n",
    "]\n",
    "\n",
    "num_qubits = 2\n",
    "\n",
    "# Create \"quantum computer\" with 2 qubits (this is actually just a vector :) )\n",
    "\n",
    "my_qpu = get_ground_state(num_qubits)\n",
    "\n",
    "# Run circuit\n",
    "\n",
    "final_state = run_program(my_qpu, my_circuit, num_qubits)\n",
    "\n",
    "# Read results\n",
    "\n",
    "num_shots = 1000\n",
    "\n",
    "counts = get_counts(final_state, num_shots)\n",
    "\n",
    "print(counts)\n",
    "\n",
    "x_list = list(counts.keys())\n",
    "#print(x_list)\n",
    "height_list = list(counts.values())\n",
    "#print(height_list)\n",
    "\n",
    "plt.pyplot.bar(x=x_list, height=height_list)\n",
    "plt.pyplot.title(\"Probability Readings of 2 Qubit System given \" + str(num_shots)+ \" Tests\")\n",
    "plt.pyplot.xlabel(\"State of Qubits\")\n",
    "plt.pyplot.ylabel(\"# of Readings when Measured\")"
   ]
  }
 ],
 "metadata": {
  "kernelspec": {
   "display_name": "Python 3",
   "language": "python",
   "name": "python3"
  },
  "language_info": {
   "codemirror_mode": {
    "name": "ipython",
    "version": 3
   },
   "file_extension": ".py",
   "mimetype": "text/x-python",
   "name": "python",
   "nbconvert_exporter": "python",
   "pygments_lexer": "ipython3",
   "version": "3.8.5"
  }
 },
 "nbformat": 4,
 "nbformat_minor": 4
}
