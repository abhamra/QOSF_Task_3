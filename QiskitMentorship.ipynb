{
 "cells": [
  {
   "cell_type": "markdown",
   "metadata": {},
   "source": [
    "# Working Quantum Circuit Simulator with Parametric Gates"
   ]
  },
  {
   "cell_type": "markdown",
   "metadata": {},
   "source": [
    "## Library Imports\n",
    "- Numpy: Matrix operations\n",
    "- Rantom: Weighted random\n",
    "- Matplotlib: Graphing the probabilities of each outcome\n",
    "- Sympy: Parsing and generating the parametric phrases for the parametric gate\n",
    "- Math: exp()"
   ]
  },
  {
   "cell_type": "code",
   "execution_count": 143,
   "metadata": {},
   "outputs": [],
   "source": [
    "import numpy as np\n",
    "import random\n",
    "import matplotlib as plt\n",
    "import sympy as sp\n",
    "from sympy import *\n",
    "import math"
   ]
  },
  {
   "cell_type": "markdown",
   "metadata": {},
   "source": [
    "## Getting the Ground State\n",
    "\n",
    "The statevector of 𝑛 qubits is given by the Tensor Product (Kronecker Product) of the given qubit states. \n",
    "Since we are creating a statevector of the ground state, we can say that all qubits in the system are currently \n",
    "$\\begin{bmatrix}1\\\\0\\end{bmatrix}$ or ${\\displaystyle \\vert 0\\rangle}$. The tensor product of ${\\displaystyle \\vert a\\rangle}$ and ${\\displaystyle \\vert b\\rangle}$ is given by ${\\displaystyle \\vert a\\rangle \\otimes \\vert b\\rangle}$."
   ]
  },
  {
   "cell_type": "code",
   "execution_count": 144,
   "metadata": {},
   "outputs": [],
   "source": [
    "#Creates the statevector with groundstate qubits by default\n",
    "def get_ground_state(num_qubits):\n",
    "\n",
    "    q0 = [1., 0.] #ground state\n",
    "    # return vector of size 2**num_qubits with all zeroes except first element which is 1\n",
    "    elements = q0\n",
    "    for i in range(0, num_qubits-1):\n",
    "        elements = np.kron(elements, q0)\n",
    "    #elements = np.zeros(2**num_qubits)\n",
    "    #elements[0]=1\n",
    "    return elements"
   ]
  },
  {
   "cell_type": "markdown",
   "metadata": {},
   "source": [
    "## Unitary Creation\n",
    "\n",
    "I have predefined the gates that you can use in this program, but it's important to note that even though these single qubit gates can work on single qubits, we need a matrix operator to apply the qubit to the correct target qubit in a system that has $n>=2$ qubits. In a two qubit system where $U$ is a gate,\n",
    "- To apply the gate to the first qubit: $U \\otimes I$\n",
    "- To apply the gate to the second qubit: $I \\otimes U$\n",
    "\n",
    "\n",
    "### Parametric Gate(s): U3 is Universal\n",
    "\n",
    "$U3$ is the most general form of a single qubit unitary, defined by $$U(\\theta, \\phi, \\lambda) = \\begin{pmatrix}cos(\\theta/2) & -e^{i\\lambda}sin(\\theta/2)\\\\e^{i\\phi}sin(\\theta/2) & e^{i\\lambda+i\\phi}cos(\\theta/2)\\end{pmatrix}$$\n",
    "\n",
    "You can make certain input values to $U$ constant to create either $U2$, $U1$, or the rotation gates $RX, RY,$ and $RZ$ (See [Qiskit's Documentation](https://qiskit.org/documentation/tutorials/circuits/3_summary_of_quantum_operations.html) for more information)."
   ]
  },
  {
   "cell_type": "code",
   "execution_count": 145,
   "metadata": {},
   "outputs": [],
   "source": [
    "def find_parametric_op(total_qubits, target_qubits, params):\n",
    "    thetaQ, lambdaQ, phiQ, imag = symbols(\"thetaQ lambdaQ phiQ imag\")\n",
    "    \n",
    "    #Rotation with 3 Euler Angles!\n",
    "    U3 = np.array([\n",
    "\n",
    "    [\"cos(thetaQ/2)\",\"-exp(imag * lambdaQ) * sin(thetaQ / 2)\"],\n",
    "    [\"exp(imag * phiQ) * sin(thetaQ / 2)\",\"exp(imag * lambdaQ + imag * phiQ) * cos(thetaQ / 2)\"]\n",
    "    ]).astype(\"<U60\")\n",
    "    \n",
    "    for i in range(0, len(U3)):\n",
    "        for j in range(0, len(U3[i])):\n",
    "            U3[i][j]=complex(N(sympify(U3[i][j]).subs(params)))\n",
    "    \n",
    "    I = np.identity(2)\n",
    "    \n",
    "    #makes list of matrices!\n",
    "    targets_li = np.linspace(I, I, total_qubits, dtype=np.complex)\n",
    "\n",
    "    #ONCE YOU HAVE THE ARRAY OF IDENTITY MATRICES AND YOU SET THE CHOICE TO BE THE INDEX OF THE TARGET\n",
    "    \n",
    "    targets_li[target_qubits[0]]=U3    \n",
    "    \n",
    "    O = np.kron(targets_li[0], targets_li[1])\n",
    "\n",
    "    for i in range(2, len(targets_li)):\n",
    "        O = np.kron(O, targets_li[i])\n",
    "    #print(O)\n",
    "    return O"
   ]
  },
  {
   "cell_type": "markdown",
   "metadata": {},
   "source": [
    "### Non-Parametric Quantum Gates\n",
    "\n",
    "While $X$, $Y$, and $Z$ can be represented through the parametric unitary matrix $U(\\theta, \\phi, \\lambda)$, I found it much easier to use efficiently in a non-parametric manner. \n",
    "\n",
    "The $CNOT$ gate is a special case, because it uses two projection operators - $P0x0 = \\begin{bmatrix}1&0\\\\0&0\\end{bmatrix}$ and $P1x1 = \\begin{bmatrix}0&0\\\\0&1\\end{bmatrix}$ - to create the $CNOT$ gate.\n",
    "\n",
    "In total, my Quantum Circuit Simulator can currently use:\n",
    "- X\n",
    "- Y\n",
    "- Z\n",
    "- H\n",
    "- S\n",
    "- T\n",
    "- CNOT"
   ]
  },
  {
   "cell_type": "code",
   "execution_count": 146,
   "metadata": {},
   "outputs": [],
   "source": [
    "def find_operator(total_qubits, gate_choice, target_qubits, params):\n",
    "    #mandate that target_qubits has an array input!\n",
    "    \n",
    "    #DEFINING ALL OF THE GATES IN FIND_OPERATOR\n",
    "    \n",
    "    #Define X (NOT) Gate\n",
    "    X = np.array([\n",
    "    [0, 1],\n",
    "    [1, 0]\n",
    "    ])\n",
    "    \n",
    "    #Define Y Gate\n",
    "    Y = np.array([\n",
    "\n",
    "    [0,0-1j],\n",
    "    [0+1j,0]\n",
    "    ])\n",
    "    \n",
    "    #Define Z Gate\n",
    "    Z = np.array([\n",
    "\n",
    "    [1,0],\n",
    "    [0,-1]\n",
    "    ])\n",
    "    \n",
    "    # Define H (Hadamard) gate:\n",
    "\n",
    "    H = np.array([\n",
    "        [1/np.sqrt(2), 1/np.sqrt(2)],\n",
    "        [1/np.sqrt(2), -1/np.sqrt(2)]\n",
    "    ])\n",
    "    \n",
    "    # Define projection operator |0><0|\n",
    "\n",
    "    P0x0 = np.array([\n",
    "    [1, 0],\n",
    "    [0, 0]\n",
    "    ])\n",
    "\n",
    "    # Define projection operator |1><1|\n",
    "\n",
    "    P1x1 = np.array([\n",
    "    [0, 0],\n",
    "    [0, 1]\n",
    "    ])\n",
    "    \n",
    "    S = np.array([\n",
    "\n",
    "    [1,0],\n",
    "    [0, 0+1j]\n",
    "    ])\n",
    "\n",
    "    T = np.array([\n",
    "\n",
    "    [1,0],\n",
    "    [0, 0-1j]\n",
    "    ])\n",
    "\n",
    "    \n",
    "    #2x2 identity\n",
    "    I = np.identity(2)\n",
    "    \n",
    "    choice = np.identity(2)\n",
    "    \n",
    "    if(len(target_qubits)==1):\n",
    "        #makes list of matrices!\n",
    "        targets_li = np.linspace(I, I, total_qubits, dtype=complex)\n",
    "        \n",
    "        #chooses where the unitary operator goes in the list of matrices, which will help with the creation\n",
    "        #of the overall matrix operator\n",
    "        if(gate_choice==\"x\" or gate_choice == \"X\"):\n",
    "            targets_li[target_qubits[0]]=X\n",
    "        if(gate_choice==\"y\" or gate_choice == \"Y\"):\n",
    "            targets_li[target_qubits[0]]=Y\n",
    "        if(gate_choice==\"z\" or gate_choice == \"Z\"):\n",
    "            targets_li[target_qubits[0]]=Z\n",
    "        elif(gate_choice==\"h\" or gate_choice == \"H\"):\n",
    "            targets_li[target_qubits[0]]=H\n",
    "        elif(gate_choice==\"s\" or gate_choice == \"S\"):\n",
    "            targets_li[target_qubits[0]]=S\n",
    "        elif(gate_choice==\"t\" or gate_choice == \"T\"):\n",
    "            targets_li[target_qubits[0]]=T\n",
    "        \n",
    "        #ONCE YOU HAVE THE ARRAY OF IDENTITY MATRICES AND YOU SET THE CHOICE TO BE THE INDEX OF THE TARGET\n",
    "        \n",
    "        O = np.kron(targets_li[0], targets_li[1])\n",
    "        \n",
    "        for i in range(2, len(targets_li)):\n",
    "            O = np.kron(O, targets_li[i])\n",
    "        #print(O)\n",
    "        return O\n",
    "    \n",
    "    elif(len(target_qubits)>1):\n",
    "    #use projection operators to create CNOT!\n",
    "        cx1 = np.linspace(I, I, total_qubits) \n",
    "        cx1[target_qubits[0]]=P0x0\n",
    "        cx2 = np.linspace(I, I, total_qubits) \n",
    "        cx2[target_qubits[0]]=P1x1\n",
    "        cx2[target_qubits[1]] = X\n",
    "         \n",
    "        O1 = np.kron(cx1[0], cx1[1])\n",
    "        O2 = np.kron(cx2[0], cx2[1])\n",
    "        \n",
    "        for i in range(2, total_qubits):\n",
    "            O1 = np.kron(O1, cx1[i])\n",
    "            O2 = np.kron(O2, cx2[i])\n",
    "        O_CNOT = O1+O2\n",
    "        #print(O_CNOT)\n",
    "        return O_CNOT"
   ]
  },
  {
   "cell_type": "markdown",
   "metadata": {},
   "source": [
    "## Running the circuit\n",
    "### Applying the Unitaries to the Statevector\n",
    "This function takes in the initial state or ground state, the circuit (with all of the gates to be applied in sequential order), and the total number of qubits in the given system (which can be derived by ${\\displaystyle \\log_2}($ `len(state_vector)` $)$ The function iterates through the circuit and passes in the necessary information.\n",
    "\n",
    "Note that `run_program` takes in `global_vars`, a dictionary of the global variables that will be swapped in for the symbols `\"global1\"`, `\"global2\"`, etc. A key list is created to iterate through the `params` dictionary; after doing so, we use Python's `sympy` library to substitute the values of the global variables.\n",
    "\n",
    "**Note:** I also used the `sympy` library to do the same swap with the universal parameterized gate."
   ]
  },
  {
   "cell_type": "code",
   "execution_count": 147,
   "metadata": {},
   "outputs": [],
   "source": [
    "def run_program(initial_state, circuit, total_qubits, global_vars):\n",
    "    symbols('global(1:3)')\n",
    "    final_state = initial_state\n",
    "    \n",
    "    #use find_parametric_op instead if len(params)>0\n",
    "    #find_parametric_op(total_qubits, gate_choice, target_qubits, params):\n",
    "    \n",
    "    \n",
    "    for i in range(0, len(circuit)):\n",
    "        if(len(circuit[i][\"params\"])>0):\n",
    "            key_list = list(circuit[i][\"params\"])\n",
    "            for j in range(0, len(key_list)):\n",
    "                circuit[i][\"params\"][key_list[j]] = sympify(circuit[i][\"params\"][key_list[j]]).subs(global_vars)\n",
    "            \n",
    "            final_state = np.dot(final_state, find_parametric_op(total_qubits, circuit[i][\"target\"], circuit[i][\"params\"]))\n",
    "        else:\n",
    "            final_state = np.dot(final_state, find_operator(total_qubits, circuit[i][\"gate\"], circuit[i][\"target\"], []))\n",
    "            \n",
    "    return final_state"
   ]
  },
  {
   "cell_type": "markdown",
   "metadata": {},
   "source": [
    "### Measuring the Weighted Random for one shot\n",
    "1. The function below takes in the final statevector and gleans a probability vector,\n",
    "    1. Recall that for a given state ${\\displaystyle \\vert \\psi\\rangle = \\alpha\\vert 0\\rangle + \\beta\\vert 1\\rangle}$, the probabilities of the result being ${\\displaystyle \\vert 0\\rangle}$ or ${\\displaystyle \\vert 1\\rangle}$ are ${\\displaystyle |\\alpha|^2}$ and ${\\displaystyle |\\beta|^2}$ respectively,\n",
    "2. After creating the probability vector, it also creates a vector with the binary representations for the possible qubits,\n",
    "3. The function finally generates a value based on the binary representation vector, with the weights given as the probability vector."
   ]
  },
  {
   "cell_type": "code",
   "execution_count": 148,
   "metadata": {},
   "outputs": [],
   "source": [
    "#Just a function that measures the probabilities based on the amplitudes of each state in the statevector\n",
    "\n",
    "def measure_all(state_vector):\n",
    "    # choose element from state_vector using weighted random and return it's index\n",
    "    \n",
    "    #For example, return 00 for decimal index 0, or 11 for decimal index 3\n",
    "    #fill the remaining values with zero\n",
    "    \n",
    "    #make empty string array\n",
    "    bin_index = [\"\" for x in range(len(state_vector))]\n",
    "    probabilities = [abs(state_vector[x])**2 for x in range(len(state_vector))]\n",
    "    #print(probabilities)\n",
    "\n",
    "    \n",
    "    \n",
    "    for i in range(0, len(bin_index)):\n",
    "        #print(format(i, '00' + str(num_qubits) + 'b'))\n",
    "        bin_index[i] = str(format(i, '00' + str(num_qubits) + 'b'))\n",
    "    \n",
    "    #comb_array = np.array([bin_index, state_vector])\n",
    "\n",
    "    choice = random.choices(bin_index, probabilities)[0]\n",
    "    \n",
    "    #print(choice)\n",
    "    return choice"
   ]
  },
  {
   "cell_type": "markdown",
   "metadata": {},
   "source": [
    "### Getting Empirical Probabilities for $n$ Shots\n",
    "\n",
    "For a given number of shots, $n$, the `get_counts` method:\n",
    "1. Initializes a dictionary to store the unique values returned by the `measure_all` method,\n",
    "2. Calls the `measure_all` method $n$ times and saves the number of times each unique value appeared in the aforementioned dictionary, \n",
    "3. Returns the dictionary"
   ]
  },
  {
   "cell_type": "code",
   "execution_count": 149,
   "metadata": {},
   "outputs": [],
   "source": [
    "#Calls measure_all num_shots number of times (ex. 1000) and returns the results numerically\n",
    "\n",
    "def get_counts(state_vector, num_shots):\n",
    "    \n",
    "    bin_index = [\"\" for x in range(len(state_vector))]\n",
    "    \n",
    "    for i in range(0, len(bin_index)):\n",
    "        #print(format(i, '00' + str(num_qubits) + 'b'))\n",
    "        bin_index[i] = str(format(i, '00' + str(num_qubits) + 'b'))\n",
    "    \n",
    "    values = {}\n",
    "    \n",
    "    for i in range(0, len(bin_index)):\n",
    "        values[bin_index[i]]=0\n",
    "    \n",
    "    #setting all values to zero in the values dictionary\n",
    "    \n",
    "    for i in range(0, num_shots):\n",
    "        values[measure_all(state_vector)] +=1\n",
    "\n",
    "    for i in range(0, len(bin_index)):\n",
    "        if(values[bin_index[i]]==0):\n",
    "            del(values[bin_index[i]])\n",
    "    \n",
    "    return values"
   ]
  },
  {
   "cell_type": "markdown",
   "metadata": {},
   "source": [
    "### The Program's Structure\n",
    "The program consists of:\n",
    "1. A circuit that is defined at the beginning, \n",
    "2. The ground state statevector,\n",
    "3. The `run_program` call, which takes in:\n",
    "    1. The initial statevector of the system,\n",
    "    2. The circuit (with global variables swapped in the `params` dictionary,\n",
    "    3. The total number of qubits,\n",
    "    4. The dictionary of global variables (to be swapped in the `params` dictionary,\n",
    "4. The printed dictionary,\n",
    "5. A bar chart of all of the values and their probabilities."
   ]
  },
  {
   "cell_type": "code",
   "execution_count": 150,
   "metadata": {},
   "outputs": [
    {
     "name": "stdout",
     "output_type": "stream",
     "text": [
      "{'01': 506, '10': 494}\n"
     ]
    },
    {
     "data": {
      "text/plain": [
       "Text(0, 0.5, '# of Readings when Measured')"
      ]
     },
     "execution_count": 150,
     "metadata": {},
     "output_type": "execute_result"
    },
    {
     "data": {
      "image/png": "[encoded data removed]",
      "text/plain": [
       "<Figure size 432x288 with 1 Axes>"
      ]
     },
     "metadata": {
      "needs_background": "light"
     },
     "output_type": "display_data"
    }
   ],
   "source": [
    "# Define program:\n",
    "\n",
    "my_circuit = [\n",
    "{ \"gate\": \"h\", \"target\": [0], \"params\": {} }, \n",
    "{ \"gate\": \"cx\", \"target\": [0, 1], \"params\": {} },\n",
    "{ \"gate\": \"u3\", \"target\": [0], \"params\": { \"thetaQ\": \"global1\", \"phiQ\": \"global2\", \"lambdaQ\": -np.pi, \"imag\": 1j }}\n",
    "]\n",
    "\n",
    "num_qubits = 2\n",
    "\n",
    "# Create \"quantum computer\" with 2 qubits (this is actually just a vector :) )\n",
    "\n",
    "my_qpu = get_ground_state(num_qubits)\n",
    "\n",
    "# Run circuit\n",
    "\n",
    "final_state = run_program(my_qpu, my_circuit, num_qubits, {\"global1\": np.pi, \"global2\": np.pi/2})\n",
    "\n",
    "# Read results\n",
    "\n",
    "num_shots = 1000\n",
    "\n",
    "counts = get_counts(final_state, num_shots)\n",
    "\n",
    "print(counts)\n",
    "\n",
    "#Graphing the results as well\n",
    "\n",
    "x_list = list(counts.keys())\n",
    "#print(x_list)\n",
    "height_list = list(counts.values())\n",
    "#print(height_list)\n",
    "\n",
    "plt.pyplot.bar(x=x_list, height=height_list)\n",
    "plt.pyplot.title(\"Probability Readings of 2 Qubit System given \" + str(num_shots)+ \" Tests\")\n",
    "plt.pyplot.xlabel(\"State of Qubits\")\n",
    "plt.pyplot.ylabel(\"# of Readings when Measured\")"
   ]
  },
  {
   "cell_type": "markdown",
   "metadata": {},
   "source": [
    "# Thank you!"
   ]
  }
 ],
 "metadata": {
  "kernelspec": {
   "display_name": "Python 3",
   "language": "python",
   "name": "python3"
  },
  "language_info": {
   "codemirror_mode": {
    "name": "ipython",
    "version": 3
   },
   "file_extension": ".py",
   "mimetype": "text/x-python",
   "name": "python",
   "nbconvert_exporter": "python",
   "pygments_lexer": "ipython3",
   "version": "3.8.5"
  }
 },
 "nbformat": 4,
 "nbformat_minor": 4
}
